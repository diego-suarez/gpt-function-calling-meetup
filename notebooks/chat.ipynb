{
 "cells": [
  {
   "attachments": {},
   "cell_type": "markdown",
   "metadata": {},
   "source": [
    "# Setup"
   ]
  },
  {
   "cell_type": "code",
   "execution_count": null,
   "metadata": {},
   "outputs": [],
   "source": [
    "import openai\n",
    "from dotenv import load_dotenv\n",
    "import os\n",
    "import json\n",
    "\n",
    "load_dotenv()\n",
    "openai.api_key = os.getenv(\"OPENAI_API_KEY\")"
   ]
  },
  {
   "attachments": {},
   "cell_type": "markdown",
   "metadata": {},
   "source": [
    "# Ejemplo de llamada y respuesta"
   ]
  },
  {
   "cell_type": "code",
   "execution_count": null,
   "metadata": {},
   "outputs": [],
   "source": [
    "response = openai.ChatCompletion.create(\n",
    "    model=\"gpt-3.5-turbo-0613\",\n",
    "    messages=[\n",
    "        {\n",
    "          \"role\": \"system\",\n",
    "          \"content\": \"\"\"\n",
    "Eres un analista de sentimientos.\n",
    "Dada una oración, debes analizar si la oración tiene un sentimiento positivo o negativo.\n",
    "Debes responder solamente con \"positivo\" o \"negativo\" al mensaje del usuario.\n",
    "El mensaje del usuario es la oración que debes catalogar.\n",
    "          \"\"\"\n",
    "        },\n",
    "        {\"role\": \"user\", \"content\": \"Hola, estoy super contento hoy!\"},\n",
    "    ]\n",
    ")\n",
    "\n",
    "print(response.choices[0].message)"
   ]
  },
  {
   "attachments": {},
   "cell_type": "markdown",
   "metadata": {},
   "source": [
    "# Definir las funciones que queremos proporcionar al modelo"
   ]
  },
  {
   "cell_type": "code",
   "execution_count": null,
   "metadata": {},
   "outputs": [],
   "source": [
    "todo_list = []\n",
    "\n",
    "def add_to_list(item):\n",
    "    todo_list.append(item)\n",
    "    return \"Agregado a tu lista: \" + item\n",
    "\n",
    "def get_list():\n",
    "    if (len(todo_list) == 0):\n",
    "        return \"Tu lista está vacía\"\n",
    "    else:\n",
    "        return 'Tu lista actual es: \\n - ' + '\\n - '.join(todo_list)\n",
    "\n",
    "def remove_from_list(item):\n",
    "    if item in todo_list:\n",
    "        todo_list.remove(item)\n",
    "        return \"Quitado de tu lista: \" + item\n",
    "    else:\n",
    "        return \"Item no encontrado\""
   ]
  },
  {
   "attachments": {},
   "cell_type": "markdown",
   "metadata": {},
   "source": [
    "# Definir el JSON Schema"
   ]
  },
  {
   "cell_type": "code",
   "execution_count": null,
   "metadata": {},
   "outputs": [],
   "source": [
    "functions_schema = [\n",
    "    {\n",
    "        \"name\": \"add_to_list\",\n",
    "        \"description\": \"Agrega un item a la lista de tareas\",\n",
    "        \"parameters\": {\n",
    "            \"type\": \"object\",\n",
    "            \"properties\": {\n",
    "                \"item\": {\n",
    "                    \"type\": \"string\",\n",
    "                    \"description\": \"El item a agregar a la lista\"\n",
    "                }\n",
    "            },\n",
    "            \"required\": [\"item\"]\n",
    "        },\n",
    "    },\n",
    "    {\n",
    "        \"name\": \"get_list\",\n",
    "        \"description\": \"Obtiene la lista de tareas\",\n",
    "        \"parameters\": {\n",
    "            \"type\": \"object\",\n",
    "            \"properties\": {}\n",
    "        },\n",
    "    },\n",
    "    {\n",
    "        \"name\": \"remove_from_list\",\n",
    "        \"description\": \"Quita un item de la lista de tareas\",\n",
    "        \"parameters\": {\n",
    "            \"type\": \"object\",\n",
    "            \"properties\": {\n",
    "                \"item\": {\n",
    "                    \"type\": \"string\",\n",
    "                    \"description\": \"El item a quitar de la lista\"\n",
    "                }\n",
    "            },\n",
    "            \"required\": [\"item\"]\n",
    "        },\n",
    "    }\n",
    "]"
   ]
  },
  {
   "attachments": {},
   "cell_type": "markdown",
   "metadata": {},
   "source": [
    "# Ejemplo de respuesta con funciones"
   ]
  },
  {
   "cell_type": "code",
   "execution_count": null,
   "metadata": {},
   "outputs": [],
   "source": [
    "response = openai.ChatCompletion.create(\n",
    "    model=\"gpt-3.5-turbo-0613\",\n",
    "    functions=functions_schema,\n",
    "    function_call=\"auto\",\n",
    "    messages=[\n",
    "        {\n",
    "          \"role\": \"system\",\n",
    "          \"content\": \"\"\"\n",
    "Eres un asistente de una app de lista de tareas.\n",
    "Debes responder los mensajes del usuario y llamar a la función correspondiente si es necesario.\n",
    "          \"\"\"\n",
    "        },\n",
    "        {\"role\": \"user\", \"content\": \"Tengo que comprar pan\"},\n",
    "    ]\n",
    ")\n",
    "\n",
    "print(response.choices[0].message)"
   ]
  },
  {
   "attachments": {},
   "cell_type": "markdown",
   "metadata": {},
   "source": [
    "# Mapear el nombre de las funciones a las funciones reales"
   ]
  },
  {
   "cell_type": "code",
   "execution_count": null,
   "metadata": {},
   "outputs": [],
   "source": [
    "available_functions = {\n",
    "    \"add_to_list\": add_to_list,\n",
    "    \"get_list\": get_list,\n",
    "    \"remove_from_list\": remove_from_list\n",
    "}\n",
    "\n",
    "def call_function(name, arguments):\n",
    "    return available_functions[name](**arguments)"
   ]
  },
  {
   "cell_type": "code",
   "execution_count": null,
   "metadata": {},
   "outputs": [],
   "source": [
    "history = []\n",
    "\n",
    "def call_openai_with_history():\n",
    "    return openai.ChatCompletion.create(\n",
    "        model=\"gpt-3.5-turbo-0613\",\n",
    "        functions=functions_schema,\n",
    "        function_call=\"auto\",\n",
    "        messages=[\n",
    "            {\n",
    "                \"role\": \"system\",\n",
    "                \"content\": \"\"\"\n",
    "Eres un asistente de una app de lista de tareas.\n",
    "Debes responder los mensajes del usuario y llamar a la función correspondiente si es necesario.\n",
    "                \"\"\"\n",
    "            }\n",
    "        ] + history\n",
    "    )\n",
    "\n",
    "\n",
    "def call_todo_agent(text):\n",
    "    history.append({\"role\": \"user\", \"content\": text})\n",
    "\n",
    "    response = call_openai_with_history()\n",
    "\n",
    "    print(response.choices[0].message)\n",
    "\n",
    "    if response.choices[0].message.get('function_call') != None:\n",
    "        function_call = response.choices[0].message.function_call\n",
    "        arguments = json.loads(function_call.arguments)\n",
    "        function_response = call_function(function_call.name, arguments)\n",
    "\n",
    "        print(function_response)\n",
    "        history.append(\n",
    "            {\"role\": \"function\", \"name\": function_call.name, \"content\": function_response})\n",
    "    else:\n",
    "        history.append(\n",
    "            {\"role\": \"assistant\", \"content\": response.choices[0].message.content})\n",
    "        print(response.choices[0].message.content)"
   ]
  },
  {
   "cell_type": "code",
   "execution_count": null,
   "metadata": {},
   "outputs": [],
   "source": [
    "call_todo_agent(\"Hola\")"
   ]
  }
 ],
 "metadata": {
  "kernelspec": {
   "display_name": "Python 3",
   "language": "python",
   "name": "python3"
  },
  "language_info": {
   "codemirror_mode": {
    "name": "ipython",
    "version": 3
   },
   "file_extension": ".py",
   "mimetype": "text/x-python",
   "name": "python",
   "nbconvert_exporter": "python",
   "pygments_lexer": "ipython3",
   "version": "3.10.10"
  },
  "orig_nbformat": 4
 },
 "nbformat": 4,
 "nbformat_minor": 2
}
