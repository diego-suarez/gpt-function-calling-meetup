{
 "cells": [
  {
   "attachments": {},
   "cell_type": "markdown",
   "metadata": {},
   "source": [
    "# Setup\n",
    "\n",
    "Import openai and set your API key."
   ]
  },
  {
   "cell_type": "code",
   "execution_count": null,
   "metadata": {},
   "outputs": [],
   "source": [
    "import openai\n",
    "import os\n",
    "import json\n",
    "from dotenv import load_dotenv\n",
    "\n",
    "load_dotenv()\n",
    "openai.api_key = os.getenv(\"OPENAI_API_KEY\")"
   ]
  },
  {
   "attachments": {},
   "cell_type": "markdown",
   "metadata": {},
   "source": [
    "# Helper para obtener el texto de una url"
   ]
  },
  {
   "cell_type": "code",
   "execution_count": null,
   "metadata": {},
   "outputs": [],
   "source": [
    "def get_website_text(url):\n",
    "    from urllib.request import urlopen\n",
    "    from bs4 import BeautifulSoup\n",
    "    html = urlopen(url).read()\n",
    "    soup = BeautifulSoup(html, features=\"html.parser\")\n",
    "    return soup.get_text('\\n')"
   ]
  },
  {
   "cell_type": "code",
   "execution_count": null,
   "metadata": {},
   "outputs": [],
   "source": [
    "text = get_website_text('https://rootstrap.com')\n",
    "print(text)"
   ]
  },
  {
   "attachments": {},
   "cell_type": "markdown",
   "metadata": {},
   "source": [
    "# Definir función y JSON Schema"
   ]
  },
  {
   "cell_type": "code",
   "execution_count": null,
   "metadata": {},
   "outputs": [],
   "source": [
    "def print_company_information(name, contact_email, industry, services):\n",
    "    print(f\"Company Name: {name}\")\n",
    "    print(f\"Contact Email: {contact_email}\")\n",
    "    print(f\"Industry: {industry}\")\n",
    "    print(f\"Services: {services}\")\n",
    "\n",
    "\n",
    "print_company_schema = [\n",
    "    {\n",
    "        \"name\": \"print_company_information\",\n",
    "        \"description\": \"Muestra en pantalla la información de una compañía\",\n",
    "        \"parameters\": {\n",
    "            \"type\": \"object\",\n",
    "            \"properties\": {\n",
    "                \"name\": {\n",
    "                    \"type\": \"string\",\n",
    "                    \"description\": \"El nombre de la compañía\"\n",
    "                },\n",
    "                \"contact_email\": {\n",
    "                    \"type\": \"string\",\n",
    "                    \"format\": \"email\",\n",
    "                    \"description\": \"El email de contacto de la compañía\"\n",
    "                },\n",
    "                \"industry\": {\n",
    "                    \"type\": \"string\",\n",
    "                    \"description\": \"La industria de la compañía\",\n",
    "                    \"enum\": ['tech', 'finance', 'healthcare', 'education', 'retail', 'other']\n",
    "                },\n",
    "                \"services\": {\n",
    "                    \"type\": \"array\",\n",
    "                    \"description\": \"Los servicios que ofrece la compañía\",\n",
    "                    \"items\": {\n",
    "                        \"type\": \"string\"\n",
    "                    },\n",
    "\n",
    "                }\n",
    "            },\n",
    "            \"required\": [\"name\", \"contact_email\", \"industry\", \"services\"]\n",
    "        },\n",
    "    }\n",
    "]"
   ]
  },
  {
   "cell_type": "code",
   "execution_count": null,
   "metadata": {},
   "outputs": [],
   "source": [
    "def get_openai_response(text):\n",
    "    response = openai.ChatCompletion.create(\n",
    "        model='gpt-4-0613',\n",
    "        functions=print_company_schema,\n",
    "        function_call={\"name\": \"print_company_information\"},\n",
    "        messages=[\n",
    "            {\n",
    "                \"role\": \"system\",\n",
    "                \"content\": \"\"\"\n",
    "                    Eres un transformador de texto sin procesar a estructura de datos.\n",
    "                    El mensaje del usuario es el texto sin procesar de un sitio web una empresa.\n",
    "                    Tu tarea es extraer del texto la información de la empresa y llamar a la función print_company_information.\n",
    "                \"\"\"\n",
    "            },\n",
    "            {\"role\": \"user\", \"content\": text}\n",
    "        ]\n",
    "    )\n",
    "    return response.choices[0].message"
   ]
  },
  {
   "cell_type": "code",
   "execution_count": null,
   "metadata": {},
   "outputs": [],
   "source": [
    "text = get_website_text(\"https://rootstrap.com/\")\n",
    "print(text)\n",
    "response = get_openai_response(text)\n",
    "print(response)\n",
    "arguments = json.loads(response.function_call.arguments)\n",
    "print(arguments)\n",
    "print_company_information(**arguments)"
   ]
  },
  {
   "attachments": {},
   "cell_type": "markdown",
   "metadata": {},
   "source": [
    "# Generar propiedades"
   ]
  },
  {
   "cell_type": "code",
   "execution_count": null,
   "metadata": {},
   "outputs": [],
   "source": [
    "tag_message_schema = [\n",
    "    {\n",
    "        \"name\": \"tag_message\",\n",
    "        \"description\": \"Etiqueta el mensaje con el sentimiento, tono y código de idioma\",\n",
    "        \"parameters\": {\n",
    "            \"type\": \"object\",\n",
    "            \"properties\": {\n",
    "                \"sentiment\": {\n",
    "                    \"type\": \"string\",\n",
    "                    \"description\": \"El sentimiento del mensaje\"\n",
    "                },\n",
    "                \"tone\": {\n",
    "                    \"type\": \"string\",\n",
    "                    \"description\": \"El tono del mensaje\"\n",
    "                },\n",
    "                \"language_code\": {\n",
    "                    \"type\": \"string\",\n",
    "                    \"description\": \"El código ISO 639-1 del idioma del mensaje\"\n",
    "                },\n",
    "                \"culture\": {\n",
    "                    \"type\": \"string\",\n",
    "                    \"description\": \"La cultura de quien escribe el mensaje\"\n",
    "                }\n",
    "            },\n",
    "            \"required\": [\"sentiment\", \"tone\", \"language_code\"]\n",
    "        },\n",
    "    }\n",
    "]\n",
    "\n",
    "def tag_message(text):\n",
    "    response = openai.ChatCompletion.create(\n",
    "        model='gpt-4-0613',\n",
    "        functions=tag_message_schema,\n",
    "        function_call={\"name\": \"tag_message\"},\n",
    "        messages=[\n",
    "            {\n",
    "                \"role\": \"system\",\n",
    "                \"content\": \"\"\"\n",
    "                    Eres un etiquetador de mensajes.\n",
    "                    El mensaje del usuario es el mensaje que debes etiquetar.\n",
    "                    Tu objetivo es clasificar el mensaje y llamar a la función tag_message.\n",
    "                \"\"\"\n",
    "            },\n",
    "            {\"role\": \"user\", \"content\": text}\n",
    "        ]\n",
    "    )\n",
    "    return response.choices[0].message.function_call"
   ]
  },
  {
   "cell_type": "code",
   "execution_count": null,
   "metadata": {},
   "outputs": [],
   "source": [
    "function_call = tag_message(\"I am very happy today\")\n",
    "print(function_call.name)\n",
    "print(json.loads(function_call.arguments))"
   ]
  }
 ],
 "metadata": {
  "kernelspec": {
   "display_name": "Python 3",
   "language": "python",
   "name": "python3"
  },
  "language_info": {
   "codemirror_mode": {
    "name": "ipython",
    "version": 3
   },
   "file_extension": ".py",
   "mimetype": "text/x-python",
   "name": "python",
   "nbconvert_exporter": "python",
   "pygments_lexer": "ipython3",
   "version": "3.10.10"
  },
  "orig_nbformat": 4
 },
 "nbformat": 4,
 "nbformat_minor": 2
}
