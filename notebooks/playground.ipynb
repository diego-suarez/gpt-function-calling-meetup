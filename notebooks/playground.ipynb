{
 "cells": [
  {
   "cell_type": "code",
   "execution_count": 1,
   "metadata": {},
   "outputs": [],
   "source": [
    "import openai\n",
    "import os\n",
    "import json\n",
    "from dotenv import load_dotenv\n",
    "\n",
    "load_dotenv()\n",
    "openai.api_key = os.getenv(\"OPENAI_API_KEY\")"
   ]
  },
  {
   "cell_type": "code",
   "execution_count": 2,
   "metadata": {},
   "outputs": [],
   "source": [
    "from datetime import date\n",
    "\n",
    "print_year_schema = [\n",
    "    {\n",
    "        \"name\": \"print_year\",\n",
    "        \"description\": \"Imprime un año en pantalla\",\n",
    "        \"parameters\": {\n",
    "            \"type\": \"object\",\n",
    "            \"properties\": {\n",
    "                \"year\": {\n",
    "                    \"type\": \"integer\",\n",
    "                    \"description\": \"The year to print\"\n",
    "                }\n",
    "            },\n",
    "            \"required\": [\"year\"]\n",
    "        },\n",
    "    }\n",
    "]\n",
    "\n",
    "def ask_question(text):\n",
    "    response = openai.ChatCompletion.create(\n",
    "        model='gpt-4-0613',\n",
    "        functions=print_year_schema,\n",
    "        function_call={\"name\": \"print_year\"},\n",
    "        messages=[\n",
    "            {\n",
    "                \"role\": \"system\",\n",
    "                \"content\": \"\"\"\n",
    "                    Eres un asistente de calendario.\n",
    "                  El usuario te hará preguntas y solo responderás con el año que te piden, sin ninguna explicación.\n",
    "                  Solo responde con el año.\n",
    "                  Hoy es: {date}\n",
    "                \"\"\".format(date=date.today())\n",
    "            },\n",
    "            {\"role\": \"user\", \"content\": text}\n",
    "        ]\n",
    "    )\n",
    "    return response.choices[0].message.function_call"
   ]
  },
  {
   "cell_type": "code",
   "execution_count": 3,
   "metadata": {},
   "outputs": [
    {
     "name": "stdout",
     "output_type": "stream",
     "text": [
      "Asking question: cual será el proximo año bisiesto?\n",
      "Response: {\n",
      "  \"id\": \"chatcmpl-7gJH1cv2QGrF6464ZlB7dRxArwPDr\",\n",
      "  \"object\": \"chat.completion\",\n",
      "  \"created\": 1690318219,\n",
      "  \"model\": \"gpt-4-0613\",\n",
      "  \"choices\": [\n",
      "    {\n",
      "      \"index\": 0,\n",
      "      \"message\": {\n",
      "        \"role\": \"assistant\",\n",
      "        \"content\": null,\n",
      "        \"function_call\": {\n",
      "          \"name\": \"print_year\",\n",
      "          \"arguments\": \"{\\n  \\\"year\\\": 2024\\n}\"\n",
      "        }\n",
      "      },\n",
      "      \"finish_reason\": \"stop\"\n",
      "    }\n",
      "  ],\n",
      "  \"usage\": {\n",
      "    \"prompt_tokens\": 127,\n",
      "    \"completion_tokens\": 10,\n",
      "    \"total_tokens\": 137\n",
      "  }\n",
      "}\n",
      "{\n",
      "  \"name\": \"print_year\",\n",
      "  \"arguments\": \"{\\n  \\\"year\\\": 2024\\n}\"\n",
      "}\n",
      "{'year': 2024}\n"
     ]
    }
   ],
   "source": [
    "response = ask_question('cual será el proximo año bisiesto?')\n",
    "print(response)\n",
    "print(json.loads(response.arguments))"
   ]
  }
 ],
 "metadata": {
  "kernelspec": {
   "display_name": "Python 3",
   "language": "python",
   "name": "python3"
  },
  "language_info": {
   "codemirror_mode": {
    "name": "ipython",
    "version": 3
   },
   "file_extension": ".py",
   "mimetype": "text/x-python",
   "name": "python",
   "nbconvert_exporter": "python",
   "pygments_lexer": "ipython3",
   "version": "3.10.10"
  },
  "orig_nbformat": 4
 },
 "nbformat": 4,
 "nbformat_minor": 2
}
